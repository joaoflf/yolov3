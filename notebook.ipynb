{
 "cells": [
  {
   "cell_type": "code",
   "execution_count": 1,
   "metadata": {},
   "outputs": [
    {
     "name": "stderr",
     "output_type": "stream",
     "text": [
      "/Users/joaofernandes/.pyenv/versions/3.10.5/lib/python3.10/site-packages/tqdm/auto.py:22: TqdmWarning: IProgress not found. Please update jupyter and ipywidgets. See https://ipywidgets.readthedocs.io/en/stable/user_install.html\n",
      "  from .autonotebook import tqdm as notebook_tqdm\n"
     ]
    }
   ],
   "source": [
    "import torch\n",
    "from trainer import Trainer\n",
    "from dataset import YoloVOCDataset\n",
    "from model import YoloV3\n",
    "from loss import YoloV3Loss\n",
    "from utils import plot_labels, plot_prediction\n",
    "import config\n",
    "from torch.utils.data import DataLoader\n",
    "from torchmetrics.detection.mean_ap import MeanAveragePrecision\n",
    "from pprint import pprint\n"
   ]
  },
  {
   "cell_type": "code",
   "execution_count": 2,
   "metadata": {},
   "outputs": [
    {
     "name": "stderr",
     "output_type": "stream",
     "text": [
      "/Users/joaofernandes/.pyenv/versions/3.10.5/lib/python3.10/site-packages/torch/cuda/amp/grad_scaler.py:115: UserWarning: torch.cuda.amp.GradScaler is enabled, but CUDA is not available.  Disabling.\n",
      "  warnings.warn(\"torch.cuda.amp.GradScaler is enabled, but CUDA is not available.  Disabling.\")\n"
     ]
    },
    {
     "name": "stdout",
     "output_type": "stream",
     "text": [
      "Loaded checkpoint trained on 500 epochs with a loss of 0.018840786069631577\n"
     ]
    }
   ],
   "source": [
    "dataset = YoloVOCDataset(\n",
    "    csv_file=config.DATASET_PATH + \"2examples.csv\",\n",
    "    image_dir=config.IMAGES_PATH,\n",
    "    label_dir=config.LABELS_PATH,\n",
    "    transform=config.test_transform,\n",
    ")\n",
    "loader = DataLoader(dataset, batch_size=2, num_workers=2)\n",
    "model = YoloV3(20).to(config.DEVICE)\n",
    "loss_fn = YoloV3Loss().to(config.DEVICE)\n",
    "model = YoloV3(20).to(config.DEVICE)\n",
    "optimizer = torch.optim.Adam\n",
    "epochs = 500\n",
    "lr = 0.001\n",
    "batch_size = 2\n",
    "checkpoint_path = config.CHECKPOINT_PATH\n",
    "scaled_anchors = (\n",
    "    torch.tensor(config.ANCHORS)\n",
    "    * torch.tensor(\n",
    "        [config.IMAGE_SIZE // 32, config.IMAGE_SIZE // 16, config.IMAGE_SIZE // 8]\n",
    "    )\n",
    "    .unsqueeze(1)\n",
    "    .unsqueeze(1)\n",
    "    .repeat(1, 3, 2)\n",
    ").to(config.DEVICE)\n",
    "\n",
    "trainer = Trainer(\n",
    "    model,\n",
    "    loader,\n",
    "    loss_fn,\n",
    "    scaled_anchors,\n",
    "    optimizer,\n",
    "    epochs,\n",
    "    lr,\n",
    "    batch_size,\n",
    "    checkpoint_path,\n",
    ")\n",
    "trainer.load_checkpoint(checkpoint_path)\n",
    "images, labels = next(iter(loader))\n",
    "\n",
    "model.eval()\n",
    "predictions = model(images.to(config.DEVICE))\n",
    "# plot_labels(images, labels, 1)\n"
   ]
  },
  {
   "cell_type": "code",
   "execution_count": 3,
   "metadata": {},
   "outputs": [
    {
     "name": "stdout",
     "output_type": "stream",
     "text": [
      "{'map': tensor(0.9667),\n",
      " 'map_50': tensor(1.),\n",
      " 'map_75': tensor(1.),\n",
      " 'map_large': tensor(-1.),\n",
      " 'map_medium': tensor(-1.),\n",
      " 'map_per_class': tensor(-1.),\n",
      " 'map_small': tensor(0.9667),\n",
      " 'mar_1': tensor(0.7444),\n",
      " 'mar_10': tensor(0.9667),\n",
      " 'mar_100': tensor(0.9667),\n",
      " 'mar_100_per_class': tensor(-1.),\n",
      " 'mar_large': tensor(-1.),\n",
      " 'mar_medium': tensor(-1.),\n",
      " 'mar_small': tensor(0.9667)}\n"
     ]
    }
   ],
   "source": [
    "import importlib\n",
    "imported_module = importlib.import_module(\"utils\")\n",
    "importlib.reload(imported_module)\n",
    "from utils import plot_labels, plot_prediction, get_mAP\n",
    "\n",
    "# plot_prediction(images, predictions, 1)\n",
    "# plot_labels(images, labels, 1)\n",
    "\n",
    "# mAP = MeanAveragePrecision(box_format=\"cxcywh\")\n",
    "# mAP.update(preds, target)\n",
    "# pprint(mAP.compute())\n",
    "\n",
    "pprint(get_mAP(predictions, labels))"
   ]
  },
  {
   "cell_type": "code",
   "execution_count": null,
   "metadata": {},
   "outputs": [],
   "source": []
  },
  {
   "cell_type": "code",
   "execution_count": null,
   "metadata": {},
   "outputs": [],
   "source": []
  }
 ],
 "metadata": {
  "kernelspec": {
   "display_name": "Python 3.10.5 64-bit ('3.10.5')",
   "language": "python",
   "name": "python3"
  },
  "language_info": {
   "codemirror_mode": {
    "name": "ipython",
    "version": 3
   },
   "file_extension": ".py",
   "mimetype": "text/x-python",
   "name": "python",
   "nbconvert_exporter": "python",
   "pygments_lexer": "ipython3",
   "version": "3.10.5"
  },
  "orig_nbformat": 4,
  "vscode": {
   "interpreter": {
    "hash": "cfbbb45e9744e1370d9c1968e898c67577db4c53b3199866012e199850e3062a"
   }
  }
 },
 "nbformat": 4,
 "nbformat_minor": 2
}
